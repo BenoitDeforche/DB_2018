{
 "cells": [
  {
   "cell_type": "markdown",
   "metadata": {},
   "source": [
    "# PROJECT GEGEVENSBANKEN 2018 - DEEL 3: QUERIES"
   ]
  },
  {
   "cell_type": "markdown",
   "metadata": {
    "heading_collapsed": true
   },
   "source": [
    "## 1. Inleiding\n",
    "\n",
    "Cf. het document `prerequisites.pdf` in de `docs` folder. "
   ]
  },
  {
   "cell_type": "markdown",
   "metadata": {
    "hidden": true
   },
   "source": [
    "### 1.1 Software"
   ]
  },
  {
   "cell_type": "markdown",
   "metadata": {
    "hidden": true
   },
   "source": [
    "In eerste instantie moeten de correcte packages geladen worden. We raden **sterk** aan om je ook tot deze packages te beperken, gezien wij de ingevulde methodes zullen runnen op onze eigen machines. Zelfde opmerking voor de gebruikte python versie, wij veronderstellen 3.6."
   ]
  },
  {
   "cell_type": "code",
   "execution_count": null,
   "metadata": {
    "hidden": true
   },
   "outputs": [],
   "source": [
    "# De benodigde packages\n",
    "import mysql.connector\n",
    "#import sqlalchemy\n",
    "import getpass      # Package om een paswoordveldje te genereren.\n",
    "import pandas as pd # Populaire package voor data-verwerking\n",
    "import numpy as np"
   ]
  },
  {
   "cell_type": "code",
   "execution_count": null,
   "metadata": {
    "hidden": true
   },
   "outputs": [],
   "source": [
    "# Check je python versie, wij veronderstellen 3.6 (Dus gebruik die versie best zelf ook)\n",
    "import sys\n",
    "sys.version_info"
   ]
  },
  {
   "cell_type": "markdown",
   "metadata": {
    "heading_collapsed": true,
    "hidden": true
   },
   "source": [
    "### 1.2 Interageren met een gegevensbank"
   ]
  },
  {
   "cell_type": "markdown",
   "metadata": {
    "hidden": true
   },
   "source": [
    "In deze sectie geven we al drie methodes mee om jullie leven al wat makkelijker te maken\n",
    "\n",
    "- `verbind met GB`\n",
    "    - Dit is functie die toelaat om gemakkelijk verbinding te maken met een database. De `username`, `hostname` en `gegevensbanknaam` worden als argumenten meegegeven met de functie. Deze functie geeft een `connection` object als output. Zo'n object is wat de `connect()` methode van het `mysql.connector` package teruggeeft. Dit is conform de python DB-API (cf. https://www.python.org/dev/peps/pep-0249/), een soort standaard waaraan python DB packages voldoen. \n",
    "    \n",
    "    Moest deze functie niet correct functioneren op je eigen besturingssysteem: voel je vrij om een variant te schrijven. Bij de correctie gebruiken wij onze eigen implementatie om een mysql `connection` object te maken. Deze functie is dus enkel voor jezelf van belang.\n",
    "    \n",
    "\n",
    "- `run_query`  \n",
    "    - Deze functie runt een gegeven `query` op een gegeven `connectie`, en geeft het resultaat terug.\n",
    "    \n",
    "    \n",
    "- `res_to_df`\n",
    "    - Deze functie giet het resultaat van een query (`query_result`) in een pandas dataframe, met vooraf gespecifieerde kolomnamen (`column_names`)."
   ]
  },
  {
   "cell_type": "code",
   "execution_count": null,
   "metadata": {
    "code_folding": [
     0
    ],
    "hidden": true
   },
   "outputs": [],
   "source": [
    "def verbind_met_GB(username, hostname, gegevensbanknaam):\n",
    "    \"\"\"\n",
    "    Maak verbinding met een externe gegevensbank\n",
    "    \n",
    "    :param  username:          username van de gebruiker, string\n",
    "    :param  hostname:          naam van de host, string.\n",
    "                               Dit is in het geval van een lokale server gewoon 'localhost'\n",
    "    :param  gegevensbanknaam:  naam van de gegevensbank, string.\n",
    "    :return connection:        connection object, dit is wat teruggeven wordt \n",
    "                               door connect() methods van packages die voldoen aan de DB-API\n",
    "    \"\"\"\n",
    "    \n",
    "    password = getpass.getpass() # Genereer vakje voor wachtwoord in te geven\n",
    "    \n",
    "    connection = mysql.connector.connect(host=hostname,\n",
    "                                         user=username,\n",
    "                                         passwd=password,\n",
    "                                         db=gegevensbanknaam)\n",
    "    return connection"
   ]
  },
  {
   "cell_type": "code",
   "execution_count": null,
   "metadata": {
    "code_folding": [
     0
    ],
    "hidden": true
   },
   "outputs": [],
   "source": [
    "def run_query(connection, query):\n",
    "    \"\"\"\n",
    "    Voer een query uit op een reeds gemaakte connectie, geeft het resultaat van de query terug\n",
    "    \"\"\"\n",
    "    \n",
    "    # Making a cursor and executing the query\n",
    "    cursor = connection.cursor()\n",
    "    cursor.execute(query)\n",
    "    \n",
    "    # Collecting the result and casting it in a pd.DataFrame\n",
    "    res = cursor.fetchall()\n",
    "    \n",
    "    return res"
   ]
  },
  {
   "cell_type": "code",
   "execution_count": null,
   "metadata": {
    "code_folding": [
     0
    ],
    "hidden": true
   },
   "outputs": [],
   "source": [
    "def res_to_df(query_result, column_names):\n",
    "    \"\"\"\n",
    "    Giet het resultaat van een uitgevoerde query in een 'pandas dataframe'\n",
    "    met vooraf gespecifieerde kolomnamen.\n",
    "    \n",
    "    Let op: Het resultaat van de query moet dus exact evenveel kolommen bevatten\n",
    "    als kolomnamen die je meegeeft. Als dit niet het geval is, is dit een indicatie\n",
    "    dat je oplossing fout is. (Gezien wij de kolomnamen van de oplossing al cadeau doen)\n",
    "    \n",
    "    \"\"\"\n",
    "    df = pd.DataFrame(query_result, columns=column_names)\n",
    "    return df"
   ]
  },
  {
   "cell_type": "markdown",
   "metadata": {
    "hidden": true
   },
   "source": [
    "### 1.3 Kolomnamen en input parameters"
   ]
  },
  {
   "cell_type": "markdown",
   "metadata": {
    "hidden": true
   },
   "source": [
    "We leggen op voorhand reeds de **kolomnamen van de oplossingen**, en de **naam en types van de inputparameters** vast. Hier moet je je dus aan houden en mag je dus niks aan wijzigen.\n",
    "\n",
    "- De kolomnamen van jullie oplossing en de onze moeten exact overeen komen, vandaar dat hieronder gegeven zijn. Dit komt trouwens van pas bij het opstellen van je queries! \n",
    "    \n",
    "    \n",
    "- Dankzij de voorbeeldparameters, die al gegeven zijn in de functiedefinitie e.g., \n",
    "        query_42(connection, col_names, super_voorbeeldparam = 101)\n",
    "  weten jullie exact welke vorm en type (integer, lijst, etc) de inputparameters zullen hebben. Wijzig ook niks aan de naam van die parameters. (super_voorbeeldparam *blijft* super_voorbeeldparam)\n",
    "\n",
    "**Oplossingen die deze vorm niet respecteren, zullen crashen op onze machines en resulteren in een score van 0 op die query.**"
   ]
  },
  {
   "cell_type": "code",
   "execution_count": null,
   "metadata": {
    "hidden": true
   },
   "outputs": [],
   "source": [
    "# Dictionary van kolomnamen inladen\n",
    "import os, json\n",
    "\n",
    "filename = os.path.join(os.getcwd(), 'solution', 'all_q_colnam.json')\n",
    "col_names = json.load(open(filename, 'r'))    \n",
    "\n",
    "col_names # Inspecteer dictionary"
   ]
  },
  {
   "cell_type": "markdown",
   "metadata": {
    "heading_collapsed": true
   },
   "source": [
    "## 2. Hoe deze notebook in te vullen"
   ]
  },
  {
   "cell_type": "markdown",
   "metadata": {
    "hidden": true
   },
   "source": [
    "Hieronder volgen 10 onvolledige methodes/functies (e.g., `query_42(c, col_names, super_voorbeeldparam = ['joske', 'jef'])`). Aan jullie om ze aan te vullen zodat:\n",
    "    1. Een correcte query gegenereerd wordt\n",
    "    2. De query uitgevoerd wordt\n",
    "    3. Het resultaat wordt teruggegeven in een Pandas DataFrame\n",
    "\n",
    "Voor stap 2 en 3 zijn de nodige methodes al voorhanden, i.e.: `run_query(connection, query)` en `res_to_df(res, column_names)`. Jullie werk zal dus vooral bestaan uit stap 1, queries genereren.\n",
    "  \n",
    "    \n",
    "    \n",
    "Elke functie heeft minstens 2 inputargumenten:\n",
    "    1. `connection`:   Een connection object \n",
    "    2. `column_names`: De kolomnamen van het Pandas DataFrame\n",
    "    \n",
    "Gevolgd door eventuele extra argumenten (e.g., `super_voorbeeldparam = ['joske','jef']`) van de inputparameters. \n",
    "\n",
    "**Nogmaals: verander niets aan de namen van de methodes, parameters en de kolomnamen van de resulterende DataFrames. Wijzigingen hieraan leiden onvermijdelijk tot een score van 0 op die query.**\n",
    "\n",
    "Je kan naar believen extra cellen toevoegen om je queries te testen, resultaten te inspecteren etc. We vragen jullie om de finale, ingevulde methodes te kopiëren naar een extern script dat enkel en alleen deze oplossingen bevat. Cf. de laatste sectie voor instructies omtrent het effectieve indienen."
   ]
  },
  {
   "cell_type": "markdown",
   "metadata": {
    "heading_collapsed": true
   },
   "source": [
    "## 3. Voorbeeld"
   ]
  },
  {
   "cell_type": "markdown",
   "metadata": {
    "hidden": true
   },
   "source": [
    "Om jullie al wat op weg te zetten volgt hier een voorbeeldje over hoe je te werk kan gaan."
   ]
  },
  {
   "cell_type": "markdown",
   "metadata": {
    "hidden": true
   },
   "source": [
    "### 3.1 Query EXAMPLE\n",
    "\n",
    "**Beschrijving**\n",
    "\n",
    "Het resultaat van deze functie geeft een Pandas dataframe terug met alle teamnamen in de Team tabel."
   ]
  },
  {
   "cell_type": "code",
   "execution_count": null,
   "metadata": {
    "hidden": true
   },
   "outputs": [],
   "source": [
    "def query_EX(connection, column_names):\n",
    "    # Bouw je query\n",
    "    query=\"\"\"\n",
    "    select t.name\n",
    "    from Teams as t;\n",
    "    \"\"\"\n",
    "    \n",
    "    # Stap 2 & 3\n",
    "    res = run_query(connection, query)         # Query uitvoeren\n",
    "    df = res_to_df(res, column_names)          # Query in DataFrame brengen\n",
    "    \n",
    "    return df"
   ]
  },
  {
   "cell_type": "markdown",
   "metadata": {
    "hidden": true
   },
   "source": [
    "Eerst maken we een verbindingsobject met de databank"
   ]
  },
  {
   "cell_type": "code",
   "execution_count": null,
   "metadata": {
    "hidden": true
   },
   "outputs": [],
   "source": [
    "username = 'root'      # Vervang dit als je via een andere user queries stuurt\n",
    "hostname = 'localhost' # Als je een databank lokaal draait, is dit localhost.\n",
    "db = 'lahman2016'      # Naam van de gegevensbank op je XAMPP Mysql server\n",
    "c = verbind_met_GB(username, hostname, db)"
   ]
  },
  {
   "cell_type": "markdown",
   "metadata": {
    "hidden": true
   },
   "source": [
    "Vervolgens runnen we onze query, en inspecteren we het resultaat."
   ]
  },
  {
   "cell_type": "code",
   "execution_count": null,
   "metadata": {
    "hidden": true
   },
   "outputs": [],
   "source": [
    "col_names['query_EX'] = ['teamnaam'] # Voor de voorbeeldquery stellen we zelf even kolomnamen op\n",
    "df = query_EX(c, col_names['query_EX'])\n",
    "df.head() # We inspecteren de eerste paar resultaten (voor alles, laat .head() weg)"
   ]
  },
  {
   "cell_type": "markdown",
   "metadata": {},
   "source": [
    "## 4. Queries"
   ]
  },
  {
   "cell_type": "markdown",
   "metadata": {},
   "source": [
    "### 4.1 Query 01\n",
    "\n",
    "**Beschrijving**\n",
    "\n",
    "Het resultaat van deze functie geeft een Pandas dataframe terug met de teamnaam en het aantal homeruns per team, gesorteerd op aantal homeruns van hoog naar laag."
   ]
  },
  {
   "cell_type": "code",
   "execution_count": null,
   "metadata": {},
   "outputs": [],
   "source": [
    "def query_01(connection, column_names):\n",
    "    # Bouw je query\n",
    "    query=\"\"\"\n",
    "    MAAK QUERY HIER\n",
    "    \"\"\"\n",
    "    \n",
    "    # Stap 2 & 3\n",
    "    res = run_query(connection, query)         # Query uitvoeren\n",
    "    df = res_to_df(res, column_names)          # Query in DataFrame brengen\n",
    "    \n",
    "    return df"
   ]
  },
  {
   "cell_type": "markdown",
   "metadata": {
    "collapsed": true
   },
   "source": [
    "### 4.2 Query 02\n",
    "\n",
    "**Beschrijving**\n",
    "\n",
    "Het resultaat van deze functie geeft een Pandas dataframe terug met de voornaam, achternaam, geboortejaar, geboortemaand, geboortedag van spelers die hun eerste major league appearance maakten na een gegeven `datum`. De tabel is gesorteerd op achternaam (oplopend alfabetisch)."
   ]
  },
  {
   "cell_type": "code",
   "execution_count": null,
   "metadata": {},
   "outputs": [],
   "source": [
    "def query_02(connection, column_names, datum = '1980-01-16'):\n",
    "    # Bouw je query\n",
    "    query=\"\"\"\n",
    "    MAAK QUERY HIER\n",
    "    \"\"\"\n",
    "    \n",
    "    # Stap 2 & 3\n",
    "    res = run_query(connection, query)         # Query uitvoeren\n",
    "    df = res_to_df(res, column_names)          # Query in DataFrame brengen\n",
    "    \n",
    "    return df"
   ]
  },
  {
   "cell_type": "markdown",
   "metadata": {},
   "source": [
    "### 4.3 Query 03\n",
    "\n",
    "**Beschrijving**\n",
    "\n",
    "Het resultaat van deze functie geef een Pandas dataframe terug die per club de clubnaam en de voor en achternaam van alle managers weergeeft. Belangrijk is dat deze managers geen speler manager waren op het moment van hun aanstelling. Per club mag een manager slechts 1 keer in het resultaat voorkomen. \n",
    "\n",
    "Sorteer oplopend alfabetisch op clubnaam."
   ]
  },
  {
   "cell_type": "code",
   "execution_count": null,
   "metadata": {},
   "outputs": [],
   "source": [
    "def query_03(connection, column_names):\n",
    "    # Bouw je query\n",
    "    query=\"\"\"\n",
    "    MAAK QUERY HIER\n",
    "    \"\"\"\n",
    "    \n",
    "    # Stap 2 & 3\n",
    "    res = run_query(connection, query)         # Query uitvoeren\n",
    "    df = res_to_df(res, column_names)          # Query in DataFrame brengen\n",
    "    \n",
    "    return df"
   ]
  },
  {
   "cell_type": "markdown",
   "metadata": {},
   "source": [
    "### 4.4 Query 04\n",
    "\n",
    "**Beschrijving**\n",
    "\n",
    "Het resultaat van deze functie geeft een Pandas dataframe terug met de teamnaam, rang, aantal wins en losses, en voor- en achternaam van de manager van dat team van die teams waarvan de managers zijn opgenomen in de hall of fame na een gegeven `datum_x` en het team managen na `datum_y`.\n",
    "\n",
    "Sorteer op teamnaam en rang (alfabetisch oplopend)."
   ]
  },
  {
   "cell_type": "code",
   "execution_count": null,
   "metadata": {},
   "outputs": [],
   "source": [
    "def query_04(connection, column_names, datum_x='1980-01-01', datum_y='1980-01-01'):\n",
    "    # Bouw je query\n",
    "    query=\"\"\"\n",
    "    MAAK QUERY HIER\n",
    "    \"\"\"\n",
    "    \n",
    "    # Stap 2 & 3\n",
    "    res = run_query(connection, query)         # Query uitvoeren\n",
    "    df = res_to_df(res, column_names)          # Query in DataFrame brengen\n",
    "    \n",
    "    return df"
   ]
  },
  {
   "cell_type": "markdown",
   "metadata": {},
   "source": [
    "### 4.5 Query 05\n",
    "\n",
    "**Beschrijving**\n",
    "\n",
    "Het resultaat van deze functie geeft een Pandas dataframe terug die naam van de teams bevat die na 1980 minstens 1 manager hebben gehad die speler-manager was. \n",
    "\n",
    "De tabel moet oplopend gesorteerd worden op team naam. De tabel mag geen dubbels bevatten."
   ]
  },
  {
   "cell_type": "code",
   "execution_count": null,
   "metadata": {},
   "outputs": [],
   "source": [
    "def query_05(connection, column_names):\n",
    "    # Bouw je query\n",
    "    query=\"\"\"\n",
    "    MAAK QUERY HIER\n",
    "    \"\"\"\n",
    "    \n",
    "    # Stap 2 & 3\n",
    "    res = run_query(connection, query)         # Query uitvoeren\n",
    "    df = res_to_df(res, column_names)          # Query in DataFrame brengen\n",
    "    \n",
    "    return df"
   ]
  },
  {
   "cell_type": "markdown",
   "metadata": {},
   "source": [
    "### 4.6 Query 06\n",
    "\n",
    "**Beschrijving**\n",
    "\n",
    "Het resultaat van deze functie geeft een Pandas DataFrame terug dat bestaat uit de teamnaam, rang, jaar, aantal wins en losses van de teams die enkel bestaan uit spelers die in het jaar dat ze voor het team spelen meer verdienen/verdienden dan `salaris`. \n",
    "\n",
    "Sorteer de gegevens oplopend op  het aantal wins."
   ]
  },
  {
   "cell_type": "code",
   "execution_count": null,
   "metadata": {},
   "outputs": [],
   "source": [
    "def query_06(connection, column_names, salaris=20000):\n",
    "    # Bouw je query\n",
    "    query=\"\"\"\n",
    "    MAAK QUERY HIER\n",
    "    \"\"\"\n",
    "    \n",
    "    # Stap 2 & 3\n",
    "    res = run_query(connection, query)         # Query uitvoeren\n",
    "    df = res_to_df(res, column_names)          # Query in DataFrame brengen\n",
    "    \n",
    "    return df"
   ]
  },
  {
   "cell_type": "markdown",
   "metadata": {},
   "source": [
    "### 4.7 Query 07\n",
    "\n",
    "**Beschrijving**\n",
    "\n",
    "Het resultaat van deze functie geeft een Pandas DataFrame terug dat de  achternaam en voornaam bevat van alle managers die tijdens hun carriere alle awards hebben gewonnen."
   ]
  },
  {
   "cell_type": "code",
   "execution_count": null,
   "metadata": {},
   "outputs": [],
   "source": [
    "def query_07(connection, column_names):\n",
    "    # Bouw je query\n",
    "    query=\"\"\"\n",
    "    MAAK QUERY HIER\n",
    "    \"\"\"\n",
    "    \n",
    "    # Stap 2 & 3\n",
    "    res = run_query(connection, query)         # Query uitvoeren\n",
    "    df = res_to_df(res, column_names)          # Query in DataFrame brengen\n",
    "    \n",
    "    return df"
   ]
  },
  {
   "cell_type": "markdown",
   "metadata": {},
   "source": [
    "### 4.8 Query 08\n",
    "\n",
    "**Beschrijving**\n",
    "\n",
    "Het resultaat van deze functie geeft een Pandas dataframe terug dat de naam van de Staat, het gemiddelde gewicht, de gemiddelde lengte, het gemiddeld aantal batting homeruns, en het gemiddeld aantal pitching saves in een bepaald jaar van spelers bevat gegroepeerd per Staat van geboorte en enkel voor spelers die zijn opgenomen in de hall of fame na het jaar `jaar`, en sorteer op naam van de Staat. Neem enkel die staten op waar de gemiddelde lengte van spelers groter is dan `lengte`.\n",
    "\n",
    "Nb. Lengte is uitgedrukt in inches."
   ]
  },
  {
   "cell_type": "code",
   "execution_count": null,
   "metadata": {},
   "outputs": [],
   "source": [
    "def query_08(connection, column_names, jaar=1990, lengte = 75):\n",
    "    # Bouw je query\n",
    "    query=\"\"\"\n",
    "    MAAK QUERY HIER\n",
    "    \"\"\"\n",
    "    \n",
    "    # Stap 2 & 3\n",
    "    res = run_query(connection, query)         # Query uitvoeren\n",
    "    df = res_to_df(res, column_names)          # Query in DataFrame brengen\n",
    "    \n",
    "    return df"
   ]
  },
  {
   "cell_type": "markdown",
   "metadata": {},
   "source": [
    "### 4.9 Query 09\n",
    "\n",
    "**Beschrijving**\n",
    "\n",
    "Het resultaat van deze functie geeft een Pandas dataframe terug dat bestaat uit het jaar, de naam en het aantal homeruns uit de Teams tabel van het team met het 2e meeste aantal homeruns in `jaar`."
   ]
  },
  {
   "cell_type": "code",
   "execution_count": null,
   "metadata": {},
   "outputs": [],
   "source": [
    "def query_09(connection, column_names, jaar=1975):\n",
    "    # Bouw je query\n",
    "    query=\"\"\"\n",
    "    MAAK QUERY HIER\n",
    "    \"\"\"\n",
    "    \n",
    "    # Stap 2 & 3\n",
    "    res = run_query(connection, query)         # Query uitvoeren\n",
    "    df = res_to_df(res, column_names)          # Query in DataFrame brengen\n",
    "    \n",
    "    return df"
   ]
  },
  {
   "cell_type": "markdown",
   "metadata": {},
   "source": [
    "### 4.10 Query 10\n",
    "\n",
    "**Beschrijving**\n",
    "\n",
    "Het resultaat van deze functie geeft een Pandas dataframe terug die voor het jaar `jaar`; teamnaam, rang, en aantal gespeelde games van teams weergeeft die in dat jaar ten minste 1 speler hebben die in datzelfde jaar exact 1 trofee won.\n",
    "\n",
    "Sorteer op teamnaam en rang."
   ]
  },
  {
   "cell_type": "code",
   "execution_count": null,
   "metadata": {},
   "outputs": [],
   "source": [
    "def query_10(connection, column_names, jaar=1990):\n",
    "    # Bouw je query\n",
    "    query=\"\"\"\n",
    "    MAAK QUERY HIER\n",
    "    \"\"\"\n",
    "    \n",
    "    # Stap 2 & 3\n",
    "    res = run_query(connection, query)         # Query uitvoeren\n",
    "    df = res_to_df(res, column_names)          # Query in DataFrame brengen\n",
    "    \n",
    "    return df"
   ]
  },
  {
   "cell_type": "markdown",
   "metadata": {},
   "source": [
    "## 5. Hoe en wat in te dienen?"
   ]
  },
  {
   "cell_type": "markdown",
   "metadata": {},
   "source": [
    "Nu je alle queries ingevuld en getest hebt, ben je klaar om je taak in te dienen.\n",
    "\n",
    "- Maak een leeg bestand aan, en geef het de bestandsnaam met formaat: `dd_X_groep_YY.py`.\n",
    "    - `dd` verwijst naar de dag van je oefenzitting, e.g. `wo` voor woensdag\n",
    "    - `X`  is een integer die verwijst naar de volgnummer van je oefenzitting op die dag, e.g. `1`\n",
    "    - `YY` zijn twee integers die verwijzen naar de volgnummer van je groepje, e.g.: `03`\n",
    "    -  Een goede bestandsnaam is dus bijvoorbeeld: `wo_1_groep_03.py`\n",
    "\n",
    "\n",
    "- Kopieer alle **INGEVULDE FUNCTIES EN NIETS ANDERS** naar dit script. Het script bevat dus enkel en alleen de methodes:\n",
    "    - query_01(connection, column_names)\n",
    "    - query_02(connection, column_names, datum = '1980-01-16')\n",
    "    - etc, etc\n",
    "\n",
    "\n",
    "- Voor de eerste 3 queries kan je dan je oplossing al testen via de verification notebook! Dit is equivalent aan de automatische correctie die wij zullen uitvoeren (weliswaar met andere parameters). Dit kan je helpen om problemen te signaleren.\n",
    "\n",
    "\n",
    "- Als je oplossing definitief is, submit je je `dd_X_groep_YY.py` via Toledo."
   ]
  }
 ],
 "metadata": {
  "kernelspec": {
   "display_name": "Python 3",
   "language": "python",
   "name": "python3"
  },
  "language_info": {
   "codemirror_mode": {
    "name": "ipython",
    "version": 3
   },
   "file_extension": ".py",
   "mimetype": "text/x-python",
   "name": "python",
   "nbconvert_exporter": "python",
   "pygments_lexer": "ipython3",
   "version": "3.6.4"
  },
  "toc": {
   "nav_menu": {},
   "number_sections": true,
   "sideBar": true,
   "skip_h1_title": true,
   "title_cell": "Table of Contents",
   "title_sidebar": "Contents",
   "toc_cell": false,
   "toc_position": {
    "height": "calc(100% - 180px)",
    "left": "10px",
    "top": "150px",
    "width": "297px"
   },
   "toc_section_display": true,
   "toc_window_display": true
  }
 },
 "nbformat": 4,
 "nbformat_minor": 2
}
