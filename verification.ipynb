{
 "cells": [
  {
   "cell_type": "markdown",
   "metadata": {},
   "source": [
    "# Verification"
   ]
  },
  {
   "cell_type": "markdown",
   "metadata": {},
   "source": [
    "## Preliminaries"
   ]
  },
  {
   "cell_type": "code",
   "execution_count": 2,
   "metadata": {},
   "outputs": [],
   "source": [
    "# De benodigde packages\n",
    "import os, sys\n",
    "\n",
    "# Importing our own\n",
    "src_folder = os.path.join(os.getcwd(), 'src') # Directory that contains our tools\n",
    "sys.path.append(src_folder)\n",
    "from execution import *\n",
    "from evaluation import *"
   ]
  },
  {
   "cell_type": "code",
   "execution_count": 3,
   "metadata": {},
   "outputs": [],
   "source": [
    "import mysql.connector\n",
    "import getpass      # Package om een paswoordveldje te genereren.\n",
    "\n",
    "def verbind_met_GB(username, hostname, gegevensbanknaam):\n",
    "    \"\"\"\n",
    "    Maak verbinding met een externe gegevensbank\n",
    "    \n",
    "    :param  username:          username van de gebruiker, string\n",
    "    :param  hostname:          naam van de host, string.\n",
    "                               Dit is in het geval van een lokale server gewoon 'localhost'\n",
    "    :param  gegevensbanknaam:  naam van de gegevensbank, string.\n",
    "    :return connection:        connection object, dit is wat teruggeven wordt \n",
    "                               door connect() methods van packages die voldoen aan de DB-API\n",
    "    \"\"\"\n",
    "    \n",
    "    password = getpass.getpass() # Genereer vakje voor wachtwoord in te geven\n",
    "    \n",
    "    connection = mysql.connector.connect(host=hostname,\n",
    "                                         user=username,\n",
    "                                         passwd=password,\n",
    "                                         db=gegevensbanknaam)\n",
    "    return connection"
   ]
  },
  {
   "cell_type": "markdown",
   "metadata": {},
   "source": [
    "## Execution"
   ]
  },
  {
   "cell_type": "code",
   "execution_count": 4,
   "metadata": {},
   "outputs": [
    {
     "name": "stdout",
     "output_type": "stream",
     "text": [
      "········\n"
     ]
    }
   ],
   "source": [
    "# Connectie opzetten\n",
    "username = 'root'      # Vervang dit als je via een andere user queries stuurt\n",
    "hostname = 'localhost' # Als je een databank lokaal draait, is dit localhost.\n",
    "db = 'lahman2016'      # Naam van de gegevensbank op je XAMPP Mysql server\n",
    "c = verbind_met_GB(username, hostname, db)"
   ]
  },
  {
   "cell_type": "code",
   "execution_count": 5,
   "metadata": {},
   "outputs": [],
   "source": [
    "fname = 'scripts/example.py' # This one only has implementations for 3 queries."
   ]
  },
  {
   "cell_type": "code",
   "execution_count": 6,
   "metadata": {},
   "outputs": [
    {
     "name": "stdout",
     "output_type": "stream",
     "text": [
      "Loading method: query_01 from module example\n",
      "Loading method: query_02 from module example\n",
      "Loading method: query_03 from module example\n",
      "Loading method: query_04 from module example\n",
      "An exception occurred in method gen_all_q_method:\n",
      "module 'example' has no attribute 'query_04'\n",
      "\n",
      "Loading method: query_05 from module example\n",
      "An exception occurred in method gen_all_q_method:\n",
      "module 'example' has no attribute 'query_05'\n",
      "\n",
      "Loading method: query_06 from module example\n",
      "An exception occurred in method gen_all_q_method:\n",
      "module 'example' has no attribute 'query_06'\n",
      "\n",
      "Loading method: query_07 from module example\n",
      "An exception occurred in method gen_all_q_method:\n",
      "module 'example' has no attribute 'query_07'\n",
      "\n",
      "Loading method: query_08 from module example\n",
      "An exception occurred in method gen_all_q_method:\n",
      "module 'example' has no attribute 'query_08'\n",
      "\n",
      "Loading method: query_09 from module example\n",
      "An exception occurred in method gen_all_q_method:\n",
      "module 'example' has no attribute 'query_09'\n",
      "\n",
      "Loading method: query_10 from module example\n",
      "An exception occurred in method gen_all_q_method:\n",
      "module 'example' has no attribute 'query_10'\n",
      "\n",
      "An exception occurred in method run_all_queries:\n",
      "'query_04'\n",
      "\n",
      "An exception occurred in method run_all_queries:\n",
      "'query_05'\n",
      "\n",
      "An exception occurred in method run_all_queries:\n",
      "'query_06'\n",
      "\n",
      "An exception occurred in method run_all_queries:\n",
      "'query_07'\n",
      "\n",
      "An exception occurred in method run_all_queries:\n",
      "'query_08'\n",
      "\n",
      "An exception occurred in method run_all_queries:\n",
      "'query_09'\n",
      "\n",
      "An exception occurred in method run_all_queries:\n",
      "'query_10'\n",
      "\n"
     ]
    }
   ],
   "source": [
    "run_external_script(fname, c)"
   ]
  },
  {
   "cell_type": "markdown",
   "metadata": {},
   "source": [
    "# Evaluation\n",
    "\n",
    "Het externe script is nu uitgevoerd met de door ons vastgelegde parameters. Op die manier zijn er csv files gemaakt in de output directory.\n",
    "\n",
    "Die csv files worden nu vergeleken met door ons aangemaakte csv files van de correcte oplossingen. Op die manier wordt de score berekend."
   ]
  },
  {
   "cell_type": "markdown",
   "metadata": {},
   "source": [
    "1. Load all solution csvs\n",
    "2. Collect them in a dict\n",
    "3. Verify that you have a df for each parameter setting"
   ]
  },
  {
   "cell_type": "code",
   "execution_count": 7,
   "metadata": {},
   "outputs": [
    {
     "name": "stdout",
     "output_type": "stream",
     "text": [
      "\n",
      "\n",
      "\n",
      "---  ---  --- -- ---  ---  ---\n",
      "\n",
      "Result for query: 01\n",
      "\n",
      "With parameters:\n",
      "Overall score: 90.0%\n",
      "Breakdown:\n",
      "\tTP        = 2291\n",
      "\tFP        = 0\n",
      "\tFN        = 0\n",
      "\tprecision = 1.0\n",
      "\trecall    = 1.0\n",
      "\tF1        = 1.0\n",
      "\tRemark    = \n",
      "    Your result was not a perfect match. Therefore your score is calculated as (F1*0.9).\n",
      "    If you had a perfect F1 score, this means that you returned all tuples perfectly,\n",
      "    but forgot to order them.\n",
      "    \n",
      "\n",
      "\n",
      "\n",
      "---  ---  --- -- ---  ---  ---\n",
      "\n",
      "Result for query: 02\n",
      "\n",
      "With parameters:\n",
      "\tdatum = 1980-01-16\n",
      "Overall score: 90.0%\n",
      "Breakdown:\n",
      "\tTP        = 7038\n",
      "\tFP        = 0\n",
      "\tFN        = 0\n",
      "\tprecision = 1.0\n",
      "\trecall    = 1.0\n",
      "\tF1        = 1.0\n",
      "\tRemark    = \n",
      "    Your result was not a perfect match. Therefore your score is calculated as (F1*0.9).\n",
      "    If you had a perfect F1 score, this means that you returned all tuples perfectly,\n",
      "    but forgot to order them.\n",
      "    \n",
      "\n",
      "\n",
      "\n",
      "---  ---  --- -- ---  ---  ---\n",
      "\n",
      "Result for query: 02\n",
      "\n",
      "With parameters:\n",
      "\tdatum = 1985-01-16\n",
      "Overall score: 90.0%\n",
      "Breakdown:\n",
      "\tTP        = 6315\n",
      "\tFP        = 0\n",
      "\tFN        = 0\n",
      "\tprecision = 1.0\n",
      "\trecall    = 1.0\n",
      "\tF1        = 1.0\n",
      "\tRemark    = \n",
      "    Your result was not a perfect match. Therefore your score is calculated as (F1*0.9).\n",
      "    If you had a perfect F1 score, this means that you returned all tuples perfectly,\n",
      "    but forgot to order them.\n",
      "    \n",
      "\n",
      "\n",
      "\n",
      "---  ---  --- -- ---  ---  ---\n",
      "\n",
      "Result for query: 03\n",
      "\n",
      "With parameters:\n",
      "Overall score: 90.0%\n",
      "Breakdown:\n",
      "\tTP        = 906\n",
      "\tFP        = 0\n",
      "\tFN        = 0\n",
      "\tprecision = 1.0\n",
      "\trecall    = 1.0\n",
      "\tF1        = 1.0\n",
      "\tRemark    = \n",
      "    Your result was not a perfect match. Therefore your score is calculated as (F1*0.9).\n",
      "    If you had a perfect F1 score, this means that you returned all tuples perfectly,\n",
      "    but forgot to order them.\n",
      "    \n",
      "\n"
     ]
    }
   ],
   "source": [
    "print(evaluate_script(fname))"
   ]
  }
 ],
 "metadata": {
  "kernelspec": {
   "display_name": "Python 3",
   "language": "python",
   "name": "python3"
  },
  "language_info": {
   "codemirror_mode": {
    "name": "ipython",
    "version": 3
   },
   "file_extension": ".py",
   "mimetype": "text/x-python",
   "name": "python",
   "nbconvert_exporter": "python",
   "pygments_lexer": "ipython3",
   "version": "3.6.4"
  },
  "toc": {
   "nav_menu": {},
   "number_sections": true,
   "sideBar": true,
   "skip_h1_title": true,
   "title_cell": "Table of Contents",
   "title_sidebar": "Contents",
   "toc_cell": false,
   "toc_position": {},
   "toc_section_display": true,
   "toc_window_display": false
  }
 },
 "nbformat": 4,
 "nbformat_minor": 2
}
